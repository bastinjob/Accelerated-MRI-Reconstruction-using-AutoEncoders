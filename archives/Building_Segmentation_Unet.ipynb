{
  "nbformat": 4,
  "nbformat_minor": 0,
  "metadata": {
    "colab": {
      "name": "Building Segmentation : Unet.ipynb",
      "provenance": [],
      "authorship_tag": "ABX9TyNfujOVsCHN0BQ4OrVaL/sI",
      "include_colab_link": true
    },
    "kernelspec": {
      "name": "python3",
      "display_name": "Python 3"
    },
    "language_info": {
      "name": "python"
    }
  },
  "cells": [
    {
      "cell_type": "markdown",
      "metadata": {
        "id": "view-in-github",
        "colab_type": "text"
      },
      "source": [
        "<a href=\"https://colab.research.google.com/github/Bastinjob/Accelerated-MRI-Reconstruction-using-AutoEncoders/blob/main/Building_Segmentation_Unet.ipynb\" target=\"_parent\"><img src=\"https://colab.research.google.com/assets/colab-badge.svg\" alt=\"Open In Colab\"/></a>"
      ]
    },
    {
      "cell_type": "code",
      "execution_count": 1,
      "metadata": {
        "id": "FPRhWSSlzKXa"
      },
      "outputs": [],
      "source": [
        "import os, cv2\n",
        "import numpy as np\n",
        "import pandas as pd\n",
        "import random, tqdm\n",
        "import seaborn as sns\n",
        "import matplotlib.pyplot as plt\n",
        "%matplotlib inline\n",
        "\n",
        "import warnings\n",
        "warnings.filterwarnings(\"ignore\")\n",
        "\n",
        "import torch\n",
        "import torch.nn as nn\n",
        "from torch.utils.data import DataLoader\n",
        "import albumentations as album\n"
      ]
    },
    {
      "cell_type": "code",
      "source": [
        "!pip install -q -U segmentation-models-pytorch albumentations > /dev/null\n",
        "import segmentation_models_pytorch as smp"
      ],
      "metadata": {
        "id": "_3PvxYaNzZK7"
      },
      "execution_count": 2,
      "outputs": []
    },
    {
      "cell_type": "code",
      "source": [
        "from google.colab import drive\n",
        "drive.mount('/gdrive')\n",
        "%cd /gdrive"
      ],
      "metadata": {
        "colab": {
          "base_uri": "https://localhost:8080/",
          "height": 362
        },
        "id": "ciTYpwX-CVJu",
        "outputId": "97e3f1ec-eccf-497e-c8b0-e4fa18dfe543"
      },
      "execution_count": 3,
      "outputs": [
        {
          "output_type": "error",
          "ename": "MessageError",
          "evalue": "ignored",
          "traceback": [
            "\u001b[0;31m---------------------------------------------------------------------------\u001b[0m",
            "\u001b[0;31mMessageError\u001b[0m                              Traceback (most recent call last)",
            "\u001b[0;32m<ipython-input-3-cd0a7580851e>\u001b[0m in \u001b[0;36m<module>\u001b[0;34m()\u001b[0m\n\u001b[1;32m      1\u001b[0m \u001b[0;32mfrom\u001b[0m \u001b[0mgoogle\u001b[0m\u001b[0;34m.\u001b[0m\u001b[0mcolab\u001b[0m \u001b[0;32mimport\u001b[0m \u001b[0mdrive\u001b[0m\u001b[0;34m\u001b[0m\u001b[0;34m\u001b[0m\u001b[0m\n\u001b[0;32m----> 2\u001b[0;31m \u001b[0mdrive\u001b[0m\u001b[0;34m.\u001b[0m\u001b[0mmount\u001b[0m\u001b[0;34m(\u001b[0m\u001b[0;34m'/gdrive'\u001b[0m\u001b[0;34m)\u001b[0m\u001b[0;34m\u001b[0m\u001b[0;34m\u001b[0m\u001b[0m\n\u001b[0m\u001b[1;32m      3\u001b[0m \u001b[0mget_ipython\u001b[0m\u001b[0;34m(\u001b[0m\u001b[0;34m)\u001b[0m\u001b[0;34m.\u001b[0m\u001b[0mmagic\u001b[0m\u001b[0;34m(\u001b[0m\u001b[0;34m'cd /gdrive'\u001b[0m\u001b[0;34m)\u001b[0m\u001b[0;34m\u001b[0m\u001b[0;34m\u001b[0m\u001b[0m\n",
            "\u001b[0;32m/usr/local/lib/python3.7/dist-packages/google/colab/drive.py\u001b[0m in \u001b[0;36mmount\u001b[0;34m(mountpoint, force_remount, timeout_ms, use_metadata_server)\u001b[0m\n\u001b[1;32m    111\u001b[0m       \u001b[0mtimeout_ms\u001b[0m\u001b[0;34m=\u001b[0m\u001b[0mtimeout_ms\u001b[0m\u001b[0;34m,\u001b[0m\u001b[0;34m\u001b[0m\u001b[0;34m\u001b[0m\u001b[0m\n\u001b[1;32m    112\u001b[0m       \u001b[0muse_metadata_server\u001b[0m\u001b[0;34m=\u001b[0m\u001b[0muse_metadata_server\u001b[0m\u001b[0;34m,\u001b[0m\u001b[0;34m\u001b[0m\u001b[0;34m\u001b[0m\u001b[0m\n\u001b[0;32m--> 113\u001b[0;31m       ephemeral=ephemeral)\n\u001b[0m\u001b[1;32m    114\u001b[0m \u001b[0;34m\u001b[0m\u001b[0m\n\u001b[1;32m    115\u001b[0m \u001b[0;34m\u001b[0m\u001b[0m\n",
            "\u001b[0;32m/usr/local/lib/python3.7/dist-packages/google/colab/drive.py\u001b[0m in \u001b[0;36m_mount\u001b[0;34m(mountpoint, force_remount, timeout_ms, use_metadata_server, ephemeral)\u001b[0m\n\u001b[1;32m    134\u001b[0m   \u001b[0;32mif\u001b[0m \u001b[0mephemeral\u001b[0m\u001b[0;34m:\u001b[0m\u001b[0;34m\u001b[0m\u001b[0;34m\u001b[0m\u001b[0m\n\u001b[1;32m    135\u001b[0m     _message.blocking_request(\n\u001b[0;32m--> 136\u001b[0;31m         'request_auth', request={'authType': 'dfs_ephemeral'}, timeout_sec=None)\n\u001b[0m\u001b[1;32m    137\u001b[0m \u001b[0;34m\u001b[0m\u001b[0m\n\u001b[1;32m    138\u001b[0m   \u001b[0mmountpoint\u001b[0m \u001b[0;34m=\u001b[0m \u001b[0m_os\u001b[0m\u001b[0;34m.\u001b[0m\u001b[0mpath\u001b[0m\u001b[0;34m.\u001b[0m\u001b[0mexpanduser\u001b[0m\u001b[0;34m(\u001b[0m\u001b[0mmountpoint\u001b[0m\u001b[0;34m)\u001b[0m\u001b[0;34m\u001b[0m\u001b[0;34m\u001b[0m\u001b[0m\n",
            "\u001b[0;32m/usr/local/lib/python3.7/dist-packages/google/colab/_message.py\u001b[0m in \u001b[0;36mblocking_request\u001b[0;34m(request_type, request, timeout_sec, parent)\u001b[0m\n\u001b[1;32m    173\u001b[0m   request_id = send_request(\n\u001b[1;32m    174\u001b[0m       request_type, request, parent=parent, expect_reply=True)\n\u001b[0;32m--> 175\u001b[0;31m   \u001b[0;32mreturn\u001b[0m \u001b[0mread_reply_from_input\u001b[0m\u001b[0;34m(\u001b[0m\u001b[0mrequest_id\u001b[0m\u001b[0;34m,\u001b[0m \u001b[0mtimeout_sec\u001b[0m\u001b[0;34m)\u001b[0m\u001b[0;34m\u001b[0m\u001b[0;34m\u001b[0m\u001b[0m\n\u001b[0m",
            "\u001b[0;32m/usr/local/lib/python3.7/dist-packages/google/colab/_message.py\u001b[0m in \u001b[0;36mread_reply_from_input\u001b[0;34m(message_id, timeout_sec)\u001b[0m\n\u001b[1;32m    104\u001b[0m         reply.get('colab_msg_id') == message_id):\n\u001b[1;32m    105\u001b[0m       \u001b[0;32mif\u001b[0m \u001b[0;34m'error'\u001b[0m \u001b[0;32min\u001b[0m \u001b[0mreply\u001b[0m\u001b[0;34m:\u001b[0m\u001b[0;34m\u001b[0m\u001b[0;34m\u001b[0m\u001b[0m\n\u001b[0;32m--> 106\u001b[0;31m         \u001b[0;32mraise\u001b[0m \u001b[0mMessageError\u001b[0m\u001b[0;34m(\u001b[0m\u001b[0mreply\u001b[0m\u001b[0;34m[\u001b[0m\u001b[0;34m'error'\u001b[0m\u001b[0;34m]\u001b[0m\u001b[0;34m)\u001b[0m\u001b[0;34m\u001b[0m\u001b[0;34m\u001b[0m\u001b[0m\n\u001b[0m\u001b[1;32m    107\u001b[0m       \u001b[0;32mreturn\u001b[0m \u001b[0mreply\u001b[0m\u001b[0;34m.\u001b[0m\u001b[0mget\u001b[0m\u001b[0;34m(\u001b[0m\u001b[0;34m'data'\u001b[0m\u001b[0;34m,\u001b[0m \u001b[0;32mNone\u001b[0m\u001b[0;34m)\u001b[0m\u001b[0;34m\u001b[0m\u001b[0;34m\u001b[0m\u001b[0m\n\u001b[1;32m    108\u001b[0m \u001b[0;34m\u001b[0m\u001b[0m\n",
            "\u001b[0;31mMessageError\u001b[0m: Error: credential propagation was unsuccessful"
          ]
        }
      ]
    },
    {
      "cell_type": "markdown",
      "source": [
        "## Defining train / val / test directories "
      ],
      "metadata": {
        "id": "NT5RHZRszoFK"
      }
    },
    {
      "cell_type": "code",
      "source": [
        "DATA_DIR = '../input/massachusetts-buildings-dataset/tiff/'\n",
        "\n",
        "x_train_dir = os.path.join(DATA_DIR, 'train')\n",
        "y_train_dir = os.path.join(DATA_DIR, 'train_labels')\n",
        "\n",
        "x_valid_dir = os.path.join(DATA_DIR, 'val')\n",
        "y_valid_dir = os.path.join(DATA_DIR, 'val_labels')\n",
        "\n",
        "x_test_dir = os.path.join(DATA_DIR, 'test')\n",
        "y_test_dir = os.path.join(DATA_DIR, 'test_labels')"
      ],
      "metadata": {
        "id": "vSv_hBjDzima"
      },
      "execution_count": 3,
      "outputs": []
    },
    {
      "cell_type": "code",
      "source": [
        "class_dict = pd.read_csv(\"../input/massachusetts-buildings-dataset/label_class_dict.csv\")\n",
        "# Get class names\n",
        "class_names = class_dict['name'].tolist()\n",
        "# Get class RGB values\n",
        "class_rgb_values = class_dict[['r','g','b']].values.tolist()\n",
        "\n",
        "print('All dataset classes and their corresponding RGB values in labels:')\n",
        "print('Class Names: ', class_names)\n",
        "print('Class RGB values: ', class_rgb_values)"
      ],
      "metadata": {
        "id": "9N2aDQiWzzKe"
      },
      "execution_count": null,
      "outputs": []
    },
    {
      "cell_type": "code",
      "source": [
        "# Useful to shortlist specific classes in datasets with large number of classes\n",
        "select_classes = ['background', 'building']\n",
        "\n",
        "# Get RGB values of required classes\n",
        "select_class_indices = [class_names.index(cls.lower()) for cls in select_classes]\n",
        "select_class_rgb_values =  np.array(class_rgb_values)[select_class_indices]\n",
        "\n",
        "print('Selected classes and their corresponding RGB values in labels:')\n",
        "print('Class Names: ', class_names)\n",
        "print('Class RGB values: ', class_rgb_values)"
      ],
      "metadata": {
        "id": "JTYj-nAJz3k9"
      },
      "execution_count": null,
      "outputs": []
    },
    {
      "cell_type": "markdown",
      "source": [
        "###Shortlist specific classes to segment\n"
      ],
      "metadata": {
        "id": "Xqp1B32q-iW3"
      }
    },
    {
      "cell_type": "code",
      "source": [
        "# Useful to shortlist specific classes in datasets with large number of classes\n",
        "select_classes = ['background', 'building']\n",
        "\n",
        "# Get RGB values of required classes\n",
        "select_class_indices = [class_names.index(cls.lower()) for cls in select_classes]\n",
        "select_class_rgb_values =  np.array(class_rgb_values)[select_class_indices]\n",
        "\n",
        "print('Selected classes and their corresponding RGB values in labels:')\n",
        "print('Class Names: ', class_names)\n",
        "print('Class RGB values: ', class_rgb_values)"
      ],
      "metadata": {
        "id": "AjWD13bO3JQx"
      },
      "execution_count": null,
      "outputs": []
    },
    {
      "cell_type": "markdown",
      "source": [
        "###Helper functions for viz. & one-hot encoding/decoding\n"
      ],
      "metadata": {
        "id": "RPt4yaF7-wW9"
      }
    },
    {
      "cell_type": "code",
      "source": [
        "# helper function for data visualization\n",
        "def visualize(**images):\n",
        "    \"\"\"\n",
        "    Plot images in one row\n",
        "    \"\"\"\n",
        "    n_images = len(images)\n",
        "    plt.figure(figsize=(20,8))\n",
        "    for idx, (name, image) in enumerate(images.items()):\n",
        "        plt.subplot(1, n_images, idx + 1)\n",
        "        plt.xticks([]); \n",
        "        plt.yticks([])\n",
        "        # get title from the parameter names\n",
        "        plt.title(name.replace('_',' ').title(), fontsize=20)\n",
        "        plt.imshow(image)\n",
        "    plt.show()\n",
        "\n",
        "# Perform one hot encoding on label\n",
        "def one_hot_encode(label, label_values):\n",
        "    \"\"\"\n",
        "    Convert a segmentation image label array to one-hot format\n",
        "    by replacing each pixel value with a vector of length num_classes\n",
        "    # Arguments\n",
        "        label: The 2D array segmentation image label\n",
        "        label_values\n",
        "        \n",
        "    # Returns\n",
        "        A 2D array with the same width and hieght as the input, but\n",
        "        with a depth size of num_classes\n",
        "    \"\"\"\n",
        "    semantic_map = []\n",
        "    for colour in label_values:\n",
        "        equality = np.equal(label, colour)\n",
        "        class_map = np.all(equality, axis = -1)\n",
        "        semantic_map.append(class_map)\n",
        "    semantic_map = np.stack(semantic_map, axis=-1)\n",
        "\n",
        "    return semantic_map\n",
        "    \n",
        "# Perform reverse one-hot-encoding on labels / preds\n",
        "def reverse_one_hot(image):\n",
        "    \"\"\"\n",
        "    Transform a 2D array in one-hot format (depth is num_classes),\n",
        "    to a 2D array with only 1 channel, where each pixel value is\n",
        "    the classified class key.\n",
        "    # Arguments\n",
        "        image: The one-hot format image \n",
        "        \n",
        "    # Returns\n",
        "        A 2D array with the same width and hieght as the input, but\n",
        "        with a depth size of 1, where each pixel value is the classified \n",
        "        class key.\n",
        "    \"\"\"\n",
        "    x = np.argmax(image, axis = -1)\n",
        "    return x\n",
        "\n",
        "# Perform colour coding on the reverse-one-hot outputs\n",
        "def colour_code_segmentation(image, label_values):\n",
        "    \"\"\"\n",
        "    Given a 1-channel array of class keys, colour code the segmentation results.\n",
        "    # Arguments\n",
        "        image: single channel array where each value represents the class key.\n",
        "        label_values\n",
        "\n",
        "    # Returns\n",
        "        Colour coded image for segmentation visualization\n",
        "    \"\"\"\n",
        "    colour_codes = np.array(label_values)\n",
        "    x = colour_codes[image.astype(int)]\n",
        "\n",
        "    return x\n"
      ],
      "metadata": {
        "id": "TsoVhzQ7-xmP"
      },
      "execution_count": null,
      "outputs": []
    },
    {
      "cell_type": "code",
      "source": [
        "class BuildingsDataset(torch.utils.data.Dataset):\n",
        "\n",
        "    \"\"\"Massachusetts Buildings Dataset. Read images, apply augmentation and preprocessing transformations.\n",
        "    \n",
        "    Args:\n",
        "        images_dir (str): path to images folder\n",
        "        masks_dir (str): path to segmentation masks folder\n",
        "        class_rgb_values (list): RGB values of select classes to extract from segmentation mask\n",
        "        augmentation (albumentations.Compose): data transfromation pipeline \n",
        "            (e.g. flip, scale, etc.)\n",
        "        preprocessing (albumentations.Compose): data preprocessing \n",
        "            (e.g. noralization, shape manipulation, etc.)\n",
        "    \n",
        "    \"\"\"\n",
        "    \n",
        "    def __init__(\n",
        "            self, \n",
        "            images_dir, \n",
        "            masks_dir, \n",
        "            class_rgb_values=None, \n",
        "            augmentation=None, \n",
        "            preprocessing=None,\n",
        "    ):\n",
        "        \n",
        "        self.image_paths = [os.path.join(images_dir, image_id) for image_id in sorted(os.listdir(images_dir))]\n",
        "        self.mask_paths = [os.path.join(masks_dir, image_id) for image_id in sorted(os.listdir(masks_dir))]\n",
        "\n",
        "        self.class_rgb_values = class_rgb_values\n",
        "        self.augmentation = augmentation\n",
        "        self.preprocessing = preprocessing\n",
        "    \n",
        "    def __getitem__(self, i):\n",
        "        \n",
        "        # read images and masks\n",
        "        image = cv2.cvtColor(cv2.imread(self.image_paths[i]), cv2.COLOR_BGR2RGB)\n",
        "        mask = cv2.cvtColor(cv2.imread(self.mask_paths[i]), cv2.COLOR_BGR2RGB)\n",
        "        \n",
        "        # one-hot-encode the mask\n",
        "        mask = one_hot_encode(mask, self.class_rgb_values).astype('float')\n",
        "        \n",
        "        # apply augmentations\n",
        "        if self.augmentation:\n",
        "            sample = self.augmentation(image=image, mask=mask)\n",
        "            image, mask = sample['image'], sample['mask']\n",
        "        \n",
        "        # apply preprocessing\n",
        "        if self.preprocessing:\n",
        "            sample = self.preprocessing(image=image, mask=mask)\n",
        "            image, mask = sample['image'], sample['mask']\n",
        "            \n",
        "        return image, mask\n",
        "        \n",
        "    def __len__(self):\n",
        "        # return length of \n",
        "        return len(self.image_paths)"
      ],
      "metadata": {
        "id": "f8nChaUj_Bv5"
      },
      "execution_count": null,
      "outputs": []
    },
    {
      "cell_type": "markdown",
      "source": [
        "###Visualize Sample Image and Mask"
      ],
      "metadata": {
        "id": "HYy0jdB8_PcY"
      }
    },
    {
      "cell_type": "code",
      "source": [
        "dataset = BuildingsDataset(x_train_dir, y_train_dir, class_rgb_values=select_class_rgb_values)\n",
        "random_idx = random.randint(0, len(dataset)-1)\n",
        "image, mask = dataset[2]\n",
        "\n",
        "visualize(\n",
        "    original_image = image,\n",
        "    ground_truth_mask = colour_code_segmentation(reverse_one_hot(mask), select_class_rgb_values),\n",
        "    one_hot_encoded_mask = reverse_one_hot(mask)\n",
        ")"
      ],
      "metadata": {
        "id": "YRCB3JhH_SDE"
      },
      "execution_count": null,
      "outputs": []
    },
    {
      "cell_type": "markdown",
      "source": [
        "###Defining Augmentations"
      ],
      "metadata": {
        "id": "yL0rp59i_XmX"
      }
    },
    {
      "cell_type": "code",
      "source": [
        "\n",
        "def get_training_augmentation():\n",
        "    train_transform = [    \n",
        "        album.RandomCrop(height=256, width=256, always_apply=True),\n",
        "        album.OneOf(\n",
        "            [\n",
        "                album.HorizontalFlip(p=1),\n",
        "                album.VerticalFlip(p=1),\n",
        "                album.RandomRotate90(p=1),\n",
        "            ],\n",
        "            p=0.75,\n",
        "        ),\n",
        "    ]\n",
        "    return album.Compose(train_transform)\n",
        "\n",
        "\n",
        "def get_validation_augmentation():   \n",
        "    # Add sufficient padding to ensure image is divisible by 32\n",
        "    test_transform = [\n",
        "        album.PadIfNeeded(min_height=1536, min_width=1536, always_apply=True, border_mode=0),\n",
        "    ]\n",
        "    return album.Compose(test_transform)\n",
        "\n",
        "\n",
        "def to_tensor(x, **kwargs):\n",
        "    return x.transpose(2, 0, 1).astype('float32')\n",
        "\n",
        "\n",
        "def get_preprocessing(preprocessing_fn=None):\n",
        "    \"\"\"Construct preprocessing transform    \n",
        "    Args:\n",
        "        preprocessing_fn (callable): data normalization function \n",
        "            (can be specific for each pretrained neural network)\n",
        "    Return:\n",
        "        transform: albumentations.Compose\n",
        "    \"\"\"   \n",
        "    _transform = []\n",
        "    if preprocessing_fn:\n",
        "        _transform.append(album.Lambda(image=preprocessing_fn))\n",
        "    _transform.append(album.Lambda(image=to_tensor, mask=to_tensor))\n",
        "        \n",
        "    return album.Compose(_transform)"
      ],
      "metadata": {
        "id": "SPAae3TI_bIx"
      },
      "execution_count": null,
      "outputs": []
    },
    {
      "cell_type": "markdown",
      "source": [
        "###Visualize Augmented Images & Masks"
      ],
      "metadata": {
        "id": "xhWass4J_teX"
      }
    },
    {
      "cell_type": "code",
      "source": [
        "augmented_dataset = BuildingsDataset(\n",
        "    x_train_dir, y_train_dir, \n",
        "    augmentation=get_training_augmentation(),\n",
        "    class_rgb_values=select_class_rgb_values,\n",
        ")\n",
        "\n",
        "random_idx = random.randint(0, len(augmented_dataset)-1)\n",
        "\n",
        "# Different augmentations on a random image/mask pair (256*256 crop)\n",
        "for i in range(3):\n",
        "    image, mask = augmented_dataset[random_idx]\n",
        "    visualize(\n",
        "        original_image = image,\n",
        "        ground_truth_mask = colour_code_segmentation(reverse_one_hot(mask), select_class_rgb_values),\n",
        "        one_hot_encoded_mask = reverse_one_hot(mask)\n",
        "    )\n"
      ],
      "metadata": {
        "id": "z6K25M9z_xlY"
      },
      "execution_count": null,
      "outputs": []
    },
    {
      "cell_type": "markdown",
      "source": [
        "###Model Definition"
      ],
      "metadata": {
        "id": "K-BtAyJcALXf"
      }
    },
    {
      "cell_type": "markdown",
      "source": [
        "![UNET.png](data:image/png;base64,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)"
      ],
      "metadata": {
        "id": "FPJJ-gZGAV1K"
      }
    },
    {
      "cell_type": "code",
      "source": [
        "class DoubleConv(nn.Module):\n",
        "    def __init__(self, in_channels, out_channels):\n",
        "        super(DoubleConv, self).__init__()\n",
        "        self.double_conv = nn.Sequential(\n",
        "            nn.Conv2d(in_channels, out_channels, kernel_size=3, padding=1),\n",
        "            nn.BatchNorm2d(out_channels),\n",
        "            nn.ReLU(inplace=True),\n",
        "            nn.Conv2d(out_channels, out_channels, kernel_size=3, padding=1),\n",
        "            nn.BatchNorm2d(out_channels),\n",
        "            nn.ReLU(inplace=True),\n",
        "        )\n",
        "\n",
        "    def forward(self, x):\n",
        "        return self.double_conv(x)\n",
        "    \n",
        "    \n",
        "class DownBlock(nn.Module):\n",
        "    def __init__(self, in_channels, out_channels):\n",
        "        super(DownBlock, self).__init__()\n",
        "        self.double_conv = DoubleConv(in_channels, out_channels)\n",
        "        self.down_sample = nn.MaxPool2d(2)\n",
        "\n",
        "    def forward(self, x):\n",
        "        skip_out = self.double_conv(x)\n",
        "        down_out = self.down_sample(skip_out)\n",
        "        return (down_out, skip_out)\n",
        "\n",
        "    \n",
        "class UpBlock(nn.Module):\n",
        "    def __init__(self, in_channels, out_channels, up_sample_mode):\n",
        "        super(UpBlock, self).__init__()\n",
        "        if up_sample_mode == 'conv_transpose':\n",
        "            self.up_sample = nn.ConvTranspose2d(in_channels-out_channels, in_channels-out_channels, kernel_size=2, stride=2)        \n",
        "        elif up_sample_mode == 'bilinear':\n",
        "            self.up_sample = nn.Upsample(scale_factor=2, mode='bilinear', align_corners=True)\n",
        "        else:\n",
        "            raise ValueError(\"Unsupported `up_sample_mode` (can take one of `conv_transpose` or `bilinear`)\")\n",
        "        self.double_conv = DoubleConv(in_channels, out_channels)\n",
        "\n",
        "    def forward(self, down_input, skip_input):\n",
        "        x = self.up_sample(down_input)\n",
        "        x = torch.cat([x, skip_input], dim=1)\n",
        "        return self.double_conv(x)\n",
        "\n",
        "    \n",
        "class UNet(nn.Module):\n",
        "    def __init__(self, out_classes=2, up_sample_mode='conv_transpose'):\n",
        "        super(UNet, self).__init__()\n",
        "        self.up_sample_mode = up_sample_mode\n",
        "        # Downsampling Path\n",
        "        self.down_conv1 = DownBlock(3, 64)\n",
        "        self.down_conv2 = DownBlock(64, 128)\n",
        "        self.down_conv3 = DownBlock(128, 256)\n",
        "        self.down_conv4 = DownBlock(256, 512)\n",
        "        # Bottleneck\n",
        "        self.double_conv = DoubleConv(512, 1024)\n",
        "        # Upsampling Path\n",
        "        self.up_conv4 = UpBlock(512 + 1024, 512, self.up_sample_mode)\n",
        "        self.up_conv3 = UpBlock(256 + 512, 256, self.up_sample_mode)\n",
        "        self.up_conv2 = UpBlock(128 + 256, 128, self.up_sample_mode)\n",
        "        self.up_conv1 = UpBlock(128 + 64, 64, self.up_sample_mode)\n",
        "        # Final Convolution\n",
        "        self.conv_last = nn.Conv2d(64, out_classes, kernel_size=1)\n",
        "\n",
        "    def forward(self, x):\n",
        "        x, skip1_out = self.down_conv1(x)\n",
        "        x, skip2_out = self.down_conv2(x)\n",
        "        x, skip3_out = self.down_conv3(x)\n",
        "        x, skip4_out = self.down_conv4(x)\n",
        "        x = self.double_conv(x)\n",
        "        x = self.up_conv4(x, skip4_out)\n",
        "        x = self.up_conv3(x, skip3_out)\n",
        "        x = self.up_conv2(x, skip2_out)\n",
        "        x = self.up_conv1(x, skip1_out)\n",
        "        x = self.conv_last(x)\n",
        "        return x\n",
        "    \n",
        "\n",
        "# Get UNet model\n",
        "model = UNet()"
      ],
      "metadata": {
        "id": "DLu72EGzANXX"
      },
      "execution_count": null,
      "outputs": []
    },
    {
      "cell_type": "markdown",
      "source": [
        "###Get Train / Val DataLoaders"
      ],
      "metadata": {
        "id": "KsUhph7DAigm"
      }
    },
    {
      "cell_type": "code",
      "source": [
        "# Get train and val dataset instances\n",
        "train_dataset = BuildingsDataset(\n",
        "    x_train_dir, y_train_dir, \n",
        "    augmentation=get_training_augmentation(),\n",
        "    preprocessing=get_preprocessing(preprocessing_fn=None),\n",
        "    class_rgb_values=select_class_rgb_values,\n",
        ")\n",
        "\n",
        "valid_dataset = BuildingsDataset(\n",
        "    x_valid_dir, y_valid_dir, \n",
        "    augmentation=get_validation_augmentation(), \n",
        "    preprocessing=get_preprocessing(preprocessing_fn=None),\n",
        "    class_rgb_values=select_class_rgb_values,\n",
        ")\n",
        "\n",
        "# Get train and val data loaders\n",
        "train_loader = DataLoader(train_dataset, batch_size=16, shuffle=True, num_workers=12)\n",
        "valid_loader = DataLoader(valid_dataset, batch_size=1, shuffle=False, num_workers=4)"
      ],
      "metadata": {
        "id": "97Vf8Yv1AehZ"
      },
      "execution_count": null,
      "outputs": []
    },
    {
      "cell_type": "markdown",
      "source": [
        "###Set Hyperparams"
      ],
      "metadata": {
        "id": "bORV33ZfAu4r"
      }
    },
    {
      "cell_type": "code",
      "source": [
        "\n",
        "# Set flag to train the model or not. If set to 'False', only prediction is performed (using an older model checkpoint)\n",
        "TRAINING = True\n",
        "\n",
        "# Set num of epochs\n",
        "EPOCHS = 12\n",
        "\n",
        "# Set device: `cuda` or `cpu`\n",
        "DEVICE = torch.device(\"cuda\" if torch.cuda.is_available() else \"cpu\")\n",
        "\n",
        "# define loss function\n",
        "loss = smp.utils.losses.DiceLoss()\n",
        "\n",
        "# define metrics\n",
        "metrics = [\n",
        "    smp.utils.metrics.IoU(threshold=0.5),\n",
        "]\n",
        "\n",
        "# define optimizer\n",
        "optimizer = torch.optim.Adam([ \n",
        "    dict(params=model.parameters(), lr=0.00008),\n",
        "])\n",
        "\n",
        "# define learning rate scheduler (not used in this NB)\n",
        "lr_scheduler = torch.optim.lr_scheduler.CosineAnnealingWarmRestarts(\n",
        "    optimizer, T_0=1, T_mult=2, eta_min=5e-5,\n",
        ")\n",
        "\n",
        "# load best saved model checkpoint from previous commit (if present)\n",
        "if os.path.exists('../input/unet-for-building-segmentation-pytorch/best_model.pth'):\n",
        "    model = torch.load('../input/unet-for-building-segmentation-pytorch/best_model.pth', map_location=DEVICE)"
      ],
      "metadata": {
        "id": "AAULBaSOAwN-"
      },
      "execution_count": null,
      "outputs": []
    },
    {
      "cell_type": "code",
      "source": [
        "train_epoch = smp.utils.train.TrainEpoch(\n",
        "    model, \n",
        "    loss=loss, \n",
        "    metrics=metrics, \n",
        "    optimizer=optimizer,\n",
        "    device=DEVICE,\n",
        "    verbose=True,\n",
        ")\n",
        "\n",
        "valid_epoch = smp.utils.train.ValidEpoch(\n",
        "    model, \n",
        "    loss=loss, \n",
        "    metrics=metrics, \n",
        "    device=DEVICE,\n",
        "    verbose=True,\n",
        ")\n"
      ],
      "metadata": {
        "id": "1zIsxKhjA34W"
      },
      "execution_count": null,
      "outputs": []
    },
    {
      "cell_type": "markdown",
      "source": [
        "###Training Unet"
      ],
      "metadata": {
        "id": "xWK97qDqA7z4"
      }
    },
    {
      "cell_type": "code",
      "source": [
        "\n",
        "%%time\n",
        "\n",
        "if TRAINING:\n",
        "\n",
        "    best_iou_score = 0.0\n",
        "    train_logs_list, valid_logs_list = [], []\n",
        "\n",
        "    for i in range(0, EPOCHS):\n",
        "\n",
        "        # Perform training & validation\n",
        "        print('\\nEpoch: {}'.format(i))\n",
        "        train_logs = train_epoch.run(train_loader)\n",
        "        valid_logs = valid_epoch.run(valid_loader)\n",
        "        train_logs_list.append(train_logs)\n",
        "        valid_logs_list.append(valid_logs)\n",
        "\n",
        "        # Save model if a better val IoU score is obtained\n",
        "        if best_iou_score < valid_logs['iou_score']:\n",
        "            best_iou_score = valid_logs['iou_score']\n",
        "            torch.save(model, './best_model.pth')\n",
        "            print('Model saved!')"
      ],
      "metadata": {
        "id": "5_Cwhx-SA-d6"
      },
      "execution_count": null,
      "outputs": []
    },
    {
      "cell_type": "markdown",
      "source": [
        "###Prediction on Test Data"
      ],
      "metadata": {
        "id": "DejZT7nzBL0u"
      }
    },
    {
      "cell_type": "code",
      "source": [
        "# load best saved model checkpoint from the current run\n",
        "if os.path.exists('./best_model.pth'):\n",
        "    best_model = torch.load('./best_model.pth', map_location=DEVICE)\n",
        "    print('Loaded UNet model from this run.')\n",
        "\n",
        "# load best saved model checkpoint from previous commit (if present)\n",
        "elif os.path.exists('../input/unet-for-building-segmentation-pytorch/best_model.pth'):\n",
        "    best_model = torch.load('../input/unet-for-building-segmentation-pytorch/best_model.pth', map_location=DEVICE)\n",
        "    print('Loaded UNet model from a previous commit.')"
      ],
      "metadata": {
        "id": "V_u5bNbyBNrn"
      },
      "execution_count": null,
      "outputs": []
    },
    {
      "cell_type": "code",
      "source": [
        "# create test dataloader to be used with UNet model (with preprocessing operation: to_tensor(...))\n",
        "test_dataset = BuildingsDataset(\n",
        "    x_test_dir, \n",
        "    y_test_dir, \n",
        "    augmentation=get_validation_augmentation(), \n",
        "    preprocessing=get_preprocessing(preprocessing_fn=None),\n",
        "    class_rgb_values=select_class_rgb_values,\n",
        ")\n",
        "\n",
        "test_dataloader = DataLoader(test_dataset)\n",
        "\n",
        "# test dataset for visualization (without preprocessing transformations)\n",
        "test_dataset_vis = BuildingsDataset(\n",
        "    x_test_dir, y_test_dir, \n",
        "    augmentation=get_validation_augmentation(),\n",
        "    class_rgb_values=select_class_rgb_values,\n",
        ")\n",
        "\n",
        "# get a random test image/mask index\n",
        "random_idx = random.randint(0, len(test_dataset_vis)-1)\n",
        "image, mask = test_dataset_vis[random_idx]\n",
        "\n",
        "visualize(\n",
        "    original_image = image,\n",
        "    ground_truth_mask = colour_code_segmentation(reverse_one_hot(mask), select_class_rgb_values),\n",
        "    one_hot_encoded_mask = reverse_one_hot(mask)\n",
        ")\n",
        "\n",
        "# Notice the images / masks are 1536*1536 because of 18px padding on all sides. \n",
        "# This is to ensure the input image dimensions to UNet model are a multiple of 2 (to account for pooling & transpose conv. operations)."
      ],
      "metadata": {
        "id": "0zEi1PPIBRVs"
      },
      "execution_count": null,
      "outputs": []
    },
    {
      "cell_type": "code",
      "source": [
        "# Center crop padded image / mask to original image dims\n",
        "def crop_image(image, target_image_dims=[1500,1500,3]):\n",
        "   \n",
        "    target_size = target_image_dims[0]\n",
        "    image_size = len(image)\n",
        "    padding = (image_size - target_size) // 2\n",
        "\n",
        "    return image[\n",
        "        padding:image_size - padding,\n",
        "        padding:image_size - padding,\n",
        "        :,\n",
        "    ]"
      ],
      "metadata": {
        "id": "QatNZU6PBiY_"
      },
      "execution_count": null,
      "outputs": []
    },
    {
      "cell_type": "code",
      "source": [
        "sample_preds_folder = 'sample_predictions/'\n",
        "if not os.path.exists(sample_preds_folder):\n",
        "    os.makedirs(sample_preds_folder)"
      ],
      "metadata": {
        "id": "IKm5GvgtBmWo"
      },
      "execution_count": null,
      "outputs": []
    },
    {
      "cell_type": "code",
      "source": [
        "for idx in range(len(test_dataset)):\n",
        "\n",
        "    random_idx = random.randint(0, len(test_dataset)-1)\n",
        "    image, gt_mask = test_dataset[random_idx]\n",
        "    image_vis = crop_image(test_dataset_vis[random_idx][0].astype('uint8'))\n",
        "    x_tensor = torch.from_numpy(image).to(DEVICE).unsqueeze(0)\n",
        "    # Predict test image\n",
        "    pred_mask = best_model(x_tensor)\n",
        "    pred_mask = pred_mask.detach().squeeze().cpu().numpy()\n",
        "    # Convert pred_mask from `CHW` format to `HWC` format\n",
        "    pred_mask = np.transpose(pred_mask,(1,2,0))\n",
        "    # Get prediction channel corresponding to building\n",
        "    pred_building_heatmap = pred_mask[:,:,select_classes.index('building')]\n",
        "    pred_mask = crop_image(colour_code_segmentation(reverse_one_hot(pred_mask), select_class_rgb_values))\n",
        "    # Convert gt_mask from `CHW` format to `HWC` format\n",
        "    gt_mask = np.transpose(gt_mask,(1,2,0))\n",
        "    gt_mask = crop_image(colour_code_segmentation(reverse_one_hot(gt_mask), select_class_rgb_values))\n",
        "    cv2.imwrite(os.path.join(sample_preds_folder, f\"sample_pred_{idx}.png\"), np.hstack([image_vis, gt_mask, pred_mask])[:,:,::-1])\n",
        "    \n",
        "    visualize(\n",
        "        original_image = image_vis,\n",
        "        ground_truth_mask = gt_mask,\n",
        "        predicted_mask = pred_mask,\n",
        "        predicted_building_heatmap = pred_building_heatmap\n",
        "    )"
      ],
      "metadata": {
        "id": "GzeQcpwRBpBR"
      },
      "execution_count": null,
      "outputs": []
    },
    {
      "cell_type": "markdown",
      "source": [
        "###Model Evaluation on Test Dataset"
      ],
      "metadata": {
        "id": "jwSpbFhhByBd"
      }
    },
    {
      "cell_type": "code",
      "source": [
        "test_epoch = smp.utils.train.ValidEpoch(\n",
        "    model,\n",
        "    loss=loss, \n",
        "    metrics=metrics, \n",
        "    device=DEVICE,\n",
        "    verbose=True,\n",
        ")\n",
        "\n",
        "valid_logs = test_epoch.run(test_dataloader)\n",
        "print(\"Evaluation on Test Data: \")\n",
        "print(f\"Mean IoU Score: {valid_logs['iou_score']:.4f}\")\n",
        "print(f\"Mean Dice Loss: {valid_logs['dice_loss']:.4f}\")"
      ],
      "metadata": {
        "id": "MCa466oxBzHe"
      },
      "execution_count": null,
      "outputs": []
    },
    {
      "cell_type": "markdown",
      "source": [
        "###Plot Dice Loss & IoU Metric for Train vs. Val"
      ],
      "metadata": {
        "id": "sZQhiSEEB2nf"
      }
    },
    {
      "cell_type": "markdown",
      "source": [
        ""
      ],
      "metadata": {
        "id": "RJAXy-4aB2bW"
      }
    },
    {
      "cell_type": "code",
      "source": [
        "train_logs_df = pd.DataFrame(train_logs_list)\n",
        "valid_logs_df = pd.DataFrame(valid_logs_list)\n",
        "train_logs_df.T"
      ],
      "metadata": {
        "id": "2oVpWA7bB8L2"
      },
      "execution_count": null,
      "outputs": []
    },
    {
      "cell_type": "code",
      "source": [
        "plt.figure(figsize=(20,8))\n",
        "plt.plot(train_logs_df.index.tolist(), train_logs_df.iou_score.tolist(), lw=3, label = 'Train')\n",
        "plt.plot(valid_logs_df.index.tolist(), valid_logs_df.iou_score.tolist(), lw=3, label = 'Valid')\n",
        "plt.xlabel('Epochs', fontsize=21)\n",
        "plt.ylabel('IoU Score', fontsize=21)\n",
        "plt.title('IoU Score Plot', fontsize=21)\n",
        "plt.legend(loc='best', fontsize=16)\n",
        "plt.grid()\n",
        "plt.savefig('iou_score_plot.png')\n",
        "plt.show()"
      ],
      "metadata": {
        "id": "etPY2UKsB9ND"
      },
      "execution_count": null,
      "outputs": []
    },
    {
      "cell_type": "code",
      "source": [
        "plt.figure(figsize=(20,8))\n",
        "plt.plot(train_logs_df.index.tolist(), train_logs_df.dice_loss.tolist(), lw=3, label = 'Train')\n",
        "plt.plot(valid_logs_df.index.tolist(), valid_logs_df.dice_loss.tolist(), lw=3, label = 'Valid')\n",
        "plt.xlabel('Epochs', fontsize=21)\n",
        "plt.ylabel('Dice Loss', fontsize=21)\n",
        "plt.title('Dice Loss Plot', fontsize=21)\n",
        "plt.legend(loc='best', fontsize=16)\n",
        "plt.grid()\n",
        "plt.savefig('dice_loss_plot.png')\n",
        "plt.show()"
      ],
      "metadata": {
        "id": "nxbBkjrdCEuC"
      },
      "execution_count": null,
      "outputs": []
    }
  ]
}